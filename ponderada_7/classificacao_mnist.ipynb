{
 "cells": [
  {
   "cell_type": "markdown",
   "metadata": {
    "id": "1UYu35Yo_BHL"
   },
   "source": [
    "## Treinamento de Rede Neural Convolucional para Classificação de Imagens do Dataset MNIST"
   ]
  },
  {
   "cell_type": "markdown",
   "metadata": {},
   "source": [
    "Notebook dedicado ao treinamento e teste de uma Rede Neural Convolucional para a classificação de algarismos escrito a mão da base de dados MNIST."
   ]
  },
  {
   "cell_type": "markdown",
   "metadata": {},
   "source": [
    "O script deve apresentar uma arquitetura válida de rede neural convolucional e acurácia maior que 95% no dataset MNIST (conjunto de treino) com apenas 3 épocas."
   ]
  },
  {
   "cell_type": "markdown",
   "metadata": {
    "id": "pp2BAr2k_nOT"
   },
   "source": [
    "#### Importações de bibliotecas necessárias"
   ]
  },
  {
   "cell_type": "code",
   "execution_count": 1,
   "metadata": {
    "id": "vBFSUdhL_mx9"
   },
   "outputs": [
    {
     "name": "stderr",
     "output_type": "stream",
     "text": [
      "2023-12-19 03:15:11.671650: I tensorflow/core/util/port.cc:113] oneDNN custom operations are on. You may see slightly different numerical results due to floating-point round-off errors from different computation orders. To turn them off, set the environment variable `TF_ENABLE_ONEDNN_OPTS=0`.\n",
      "2023-12-19 03:15:11.761311: I external/local_tsl/tsl/cuda/cudart_stub.cc:31] Could not find cuda drivers on your machine, GPU will not be used.\n",
      "2023-12-19 03:15:12.289231: E external/local_xla/xla/stream_executor/cuda/cuda_dnn.cc:9261] Unable to register cuDNN factory: Attempting to register factory for plugin cuDNN when one has already been registered\n",
      "2023-12-19 03:15:12.289286: E external/local_xla/xla/stream_executor/cuda/cuda_fft.cc:607] Unable to register cuFFT factory: Attempting to register factory for plugin cuFFT when one has already been registered\n",
      "2023-12-19 03:15:12.399881: E external/local_xla/xla/stream_executor/cuda/cuda_blas.cc:1515] Unable to register cuBLAS factory: Attempting to register factory for plugin cuBLAS when one has already been registered\n",
      "2023-12-19 03:15:12.610941: I external/local_tsl/tsl/cuda/cudart_stub.cc:31] Could not find cuda drivers on your machine, GPU will not be used.\n",
      "2023-12-19 03:15:12.614720: I tensorflow/core/platform/cpu_feature_guard.cc:182] This TensorFlow binary is optimized to use available CPU instructions in performance-critical operations.\n",
      "To enable the following instructions: AVX2 AVX512F AVX512_VNNI FMA, in other operations, rebuild TensorFlow with the appropriate compiler flags.\n",
      "2023-12-19 03:15:14.426545: W tensorflow/compiler/tf2tensorrt/utils/py_utils.cc:38] TF-TRT Warning: Could not find TensorRT\n",
      "/usr/lib/python3/dist-packages/scipy/__init__.py:146: UserWarning: A NumPy version >=1.17.3 and <1.25.0 is required for this version of SciPy (detected version 1.26.2\n",
      "  warnings.warn(f\"A NumPy version >={np_minversion} and <{np_maxversion}\"\n"
     ]
    }
   ],
   "source": [
    "import numpy as np\n",
    "import random\n",
    "import matplotlib.pyplot as plt\n",
    "import tensorflow as tf\n",
    "from keras.datasets import mnist\n",
    "from keras.models import Sequential\n",
    "from keras.layers import Dense\n",
    "\n",
    "import warnings\n",
    "warnings.filterwarnings('ignore')"
   ]
  },
  {
   "cell_type": "markdown",
   "metadata": {
    "id": "fNG9fdcJAFof"
   },
   "source": [
    "## Carregando o dataset"
   ]
  },
  {
   "cell_type": "markdown",
   "metadata": {},
   "source": [
    "O MNIST (Modified National Institute of Standards and Technology) é um conjunto de dados amplamente utilizado em aprendizado de máquina e visão computacional. Ele consiste em 60.000 imagens de dígitos escritos à mão (0 a 9) em formato de 28x28 pixels, sendo frequentemente usado para treinar e testar algoritmos de reconhecimento de dígitos. O MNIST é uma referência comum para desenvolver e avaliar modelos de redes neurais e outras técnicas de processamento de imagem."
   ]
  },
  {
   "cell_type": "code",
   "execution_count": 2,
   "metadata": {
    "colab": {
     "base_uri": "https://localhost:8080/",
     "height": 482
    },
    "id": "ojeol0PGALN_",
    "outputId": "182f9809-6a57-49cc-fec6-5bbd51b7a6e3"
   },
   "outputs": [],
   "source": [
    "(imagens_treino, ids_treino), (imagens_teste, ids_teste) = mnist.load_data()"
   ]
  },
  {
   "cell_type": "markdown",
   "metadata": {},
   "source": [
    "### Exemplo de imagem do conjunto de treino"
   ]
  },
  {
   "cell_type": "code",
   "execution_count": 3,
   "metadata": {},
   "outputs": [
    {
     "data": {
      "image/png": "[encoded data removed]",
      "text/plain": [
       "<Figure size 640x480 with 1 Axes>"
      ]
     },
     "metadata": {},
     "output_type": "display_data"
    }
   ],
   "source": [
    "plt.imshow(imagens_treino[0],cmap=plt.cm.binary)\n",
    "plt.show()"
   ]
  },
  {
   "cell_type": "markdown",
   "metadata": {},
   "source": [
    "## Exemplo de imagem do conjunto de teste"
   ]
  },
  {
   "cell_type": "code",
   "execution_count": 4,
   "metadata": {},
   "outputs": [
    {
     "data": {
      "image/png": "[encoded data removed]",
      "text/plain": [
       "<Figure size 640x480 with 1 Axes>"
      ]
     },
     "metadata": {},
     "output_type": "display_data"
    }
   ],
   "source": [
    "plt.imshow(imagens_teste[0],cmap=plt.cm.binary)\n",
    "plt.show()"
   ]
  },
  {
   "cell_type": "markdown",
   "metadata": {},
   "source": [
    "## Normalização das imagens de treino e teste"
   ]
  },
  {
   "cell_type": "markdown",
   "metadata": {},
   "source": [
    "\n",
    "A normalização das imagens no conjunto de dados MNIST, dividindo os valores dos pixels por 255, é uma prática comum no pré-processamento de dados para treinamento de redes neurais. Essa normalização coloca os valores dos pixels em uma escala entre 0 e 1, facilitando o treinamento da rede neural. Algoritmos de otimização, como o gradiente descendente, muitas vezes convergem mais rapidamente quando os dados estão nessa faixa, resultando em treinamento mais eficiente e estável. Além disso, a normalização ajuda a evitar problemas relacionados a gradientes explosivos ou desaparecimento durante o treinamento da rede."
   ]
  },
  {
   "cell_type": "code",
   "execution_count": 5,
   "metadata": {},
   "outputs": [],
   "source": [
    "imagens_treino = (imagens_treino / 255.0)\n",
    "imagens_teste = (imagens_teste / 255.0)"
   ]
  },
  {
   "cell_type": "markdown",
   "metadata": {
    "id": "Ck1rK45nMdwl"
   },
   "source": [
    "## Configurando o MLP"
   ]
  },
  {
   "cell_type": "markdown",
   "metadata": {},
   "source": [
    "\n",
    "Esse código cria um modelo de rede neural usando a biblioteca TensorFlow (presumivelmente em Python)\n",
    "\n",
    "1. Sequential Model: model3 é uma instância de um modelo sequencial, o que significa que as camadas são empilhadas sequencialmente uma após a outra.\n",
    "\n",
    "2. Flatten Layer: tf.keras.layers.Flatten() é uma camada que transforma os dados de entrada, que são imagens 28x28 no contexto do MNIST, em um vetor unidimensional de tamanho 1x784. Isso é necessário antes de alimentar os dados em camadas densas (totalmente conectadas) subsequentes.\n",
    "\n",
    "3. Dense Layers: Em seguida, há duas camadas densas (totalmente conectadas) com ativação ReLU. A primeira camada tem 128 unidades, e a segunda também tem 128 unidades.\n",
    "\n",
    "4. Output Layer: A última camada é outra camada densa, mas com 10 unidades e ativação softmax. Isso é apropriado para problemas de classificação com 10 classes, como o MNIST, onde cada unidade na camada de saída representa a probabilidade da imagem pertencer a uma classe específica (dígitos de 0 a 9)."
   ]
  },
  {
   "cell_type": "code",
   "execution_count": 6,
   "metadata": {
    "id": "MKQJ4wJzMhY7"
   },
   "outputs": [],
   "source": [
    "model3 = tf.keras.models.Sequential()  # a basic feed-forward model\n",
    "model3.add(tf.keras.layers.Flatten())  # takes our 28x28 and makes it 1x784\n",
    "model3.add(tf.keras.layers.Dense(128, input_dim=784, activation=\"relu\"))  # a simple fully-connected layer, 128 units, relu activation\n",
    "model3.add(tf.keras.layers.Dense(128, activation=\"relu\"))  # a simple fully-connected layer, 128 units, relu activation\n",
    "model3.add(tf.keras.layers.Dense(10, activation=\"softmax\"))  # our output layer. 10 units for 10 classes. Softmax for probability distribution"
   ]
  },
  {
   "cell_type": "markdown",
   "metadata": {},
   "source": [
    "A célula abaixo compila o modelo neural criado anteriormente usando a biblioteca TensorFlow.\n",
    "\n",
    "1. Optimizer: O otimizador 'adam' é escolhido para ajustar os pesos da rede durante o treinamento. O otimizador Adam é uma escolha comum devido à sua eficiência e bom desempenho em muitos casos.\n",
    "\n",
    "2. Loss Function: A função de perda é definida como 'sparse_categorical_crossentropy'. Esta é uma escolha adequada para problemas de classificação com várias classes (como o MNIST), onde cada exemplo pertence a apenas uma classe. A função de perda mede quão bem o modelo está performando em termos de quão distante suas previsões estão da verdadeira distribuição de classes.\n",
    "\n",
    "3. Metrics: Durante o treinamento, a métrica de desempenho monitorada é 'accuracy', que indica a precisão do modelo, ou seja, a proporção de exemplos classificados corretamente entre todos os exemplos."
   ]
  },
  {
   "cell_type": "code",
   "execution_count": 7,
   "metadata": {},
   "outputs": [],
   "source": [
    "model3.compile(optimizer='adam',\n",
    "              loss='sparse_categorical_crossentropy',\n",
    "              metrics=['accuracy'])"
   ]
  },
  {
   "cell_type": "markdown",
   "metadata": {
    "id": "nGUt3JDaNNiw"
   },
   "source": [
    "## Treinando"
   ]
  },
  {
   "cell_type": "markdown",
   "metadata": {},
   "source": [
    "Utilizzando o método fit para treinar o modelo neural model3 com dados de treino (imagens_treino e ids_treino) ao longo de três épocas. Durante o treinamento, o modelo ajusta seus pesos com base na otimização do otimizador 'adam', minimizando a função de perda 'sparse_categorical_crossentropy'. Além disso, são fornecidos dados de validação (imagens_teste e ids_teste) para avaliar o desempenho do modelo em um conjunto independente. O processo de treinamento visa melhorar a capacidade do modelo em fazer previsões precisas sobre novos dados, enquanto as épocas representam o número de vezes que o modelo passa por todo o conjunto de treino."
   ]
  },
  {
   "cell_type": "code",
   "execution_count": 8,
   "metadata": {
    "colab": {
     "base_uri": "https://localhost:8080/"
    },
    "id": "k-SYoHFTNOz-",
    "outputId": "be8967ae-4ab3-42e1-bebb-ca4e201c86d0"
   },
   "outputs": [
    {
     "name": "stdout",
     "output_type": "stream",
     "text": [
      "Epoch 1/3\n",
      "1875/1875 [==============================] - 7s 3ms/step - loss: 0.2298 - accuracy: 0.9308 - val_loss: 0.1224 - val_accuracy: 0.9631\n",
      "Epoch 2/3\n",
      "1875/1875 [==============================] - 7s 4ms/step - loss: 0.0960 - accuracy: 0.9704 - val_loss: 0.0860 - val_accuracy: 0.9732\n",
      "Epoch 3/3\n",
      "1875/1875 [==============================] - 6s 3ms/step - loss: 0.0682 - accuracy: 0.9783 - val_loss: 0.0939 - val_accuracy: 0.9708\n"
     ]
    },
    {
     "data": {
      "text/plain": [
       "<keras.src.callbacks.History at 0x7f5e99d749d0>"
      ]
     },
     "execution_count": 8,
     "metadata": {},
     "output_type": "execute_result"
    }
   ],
   "source": [
    "model3.fit(imagens_treino, ids_treino, epochs=3, validation_data=(imagens_teste, ids_teste))"
   ]
  },
  {
   "cell_type": "markdown",
   "metadata": {
    "id": "3-qvC_v-OUpv"
   },
   "source": [
    "## Testando o resultado"
   ]
  },
  {
   "cell_type": "markdown",
   "metadata": {},
   "source": [
    "Avaliação do modelo neural model3 usando o conjunto de teste (imagens_teste e ids_teste). O método evaluate calcula a perda e a acurácia do modelo no conjunto de teste. A perda é armazenada na variável loss_teste e a acurácia na variável acuracia_teste. Em seguida, a acurácia é impressa, fornecendo uma medida do quão bem o modelo generaliza para dados não vistos. Essa avaliação é crucial para entender o desempenho do modelo em um conjunto de dados independente e verificar se ele está apto para fazer previsões precisas em novos exemplos."
   ]
  },
  {
   "cell_type": "code",
   "execution_count": 9,
   "metadata": {
    "colab": {
     "base_uri": "https://localhost:8080/"
    },
    "id": "aVVFPLXhOW0w",
    "outputId": "e64bcc18-50d1-4343-e696-387fa39811d0"
   },
   "outputs": [
    {
     "name": "stdout",
     "output_type": "stream",
     "text": [
      "313/313 - 1s - loss: 0.0939 - accuracy: 0.9708 - 686ms/epoch - 2ms/step\n",
      "Acurácia para o conjunto de teste:  0.97079998254776\n"
     ]
    }
   ],
   "source": [
    "loss_teste, acuracia_teste = model3.evaluate(imagens_teste, ids_teste, verbose=2)\n",
    "print(\"Acurácia para o conjunto de teste: \", acuracia_teste)"
   ]
  },
  {
   "cell_type": "markdown",
   "metadata": {
    "id": "FrtF1sYZOvkG"
   },
   "source": [
    "### Predição de imagens"
   ]
  },
  {
   "cell_type": "markdown",
   "metadata": {},
   "source": [
    "Exemplo com predições de imagens com o modelo treinado e avaliado."
   ]
  },
  {
   "cell_type": "code",
   "execution_count": 10,
   "metadata": {},
   "outputs": [
    {
     "name": "stdout",
     "output_type": "stream",
     "text": [
      "1/1 [==============================] - 0s 79ms/step\n",
      "1/1 [==============================] - 0s 16ms/step\n",
      "1/1 [==============================] - 0s 16ms/step\n",
      "1/1 [==============================] - 0s 15ms/step\n"
     ]
    },
    {
     "data": {
      "image/png": "[encoded data removed]",
      "text/plain": [
       "<Figure size 1000x1000 with 4 Axes>"
      ]
     },
     "metadata": {},
     "output_type": "display_data"
    }
   ],
   "source": [
    "import random\n",
    "import matplotlib.pyplot as plt\n",
    "import numpy as np\n",
    "\n",
    "# Escolher aleatoriamente 4 imagens do conjunto de teste MNIST\n",
    "random_indices = random.sample(range(len(imagens_teste)), 4)\n",
    "\n",
    "# Configurar a grade de plotagem\n",
    "plt.figure(figsize=(10, 10))\n",
    "plt.subplots_adjust(hspace=0.5)\n",
    "\n",
    "for i, random_index in enumerate(random_indices, 1):\n",
    "    # Selecionar uma imagem aleatória e fazer a predição\n",
    "    imagem_aleatoria = imagens_teste[random_index]\n",
    "    imagem_aleatoria_reshaped = imagem_aleatoria.reshape(1, 28, 28, 1)\n",
    "    predicoes = model3.predict(imagem_aleatoria_reshaped)\n",
    "    id_predita = np.argmax(predicoes)\n",
    "\n",
    "    # Plotar a imagem\n",
    "    plt.subplot(2, 2, i)\n",
    "    plt.imshow(imagem_aleatoria.reshape(28, 28), cmap=plt.cm.binary)\n",
    " \n",
    "   # Adicionar a predição como anotação\n",
    "    plt.annotate(\n",
    "        f'Predição: {id_predita}',\n",
    "        xy=(0.85, 0.95),\n",
    "        xycoords='axes fraction',\n",
    "        ha='center',\n",
    "        va='center',\n",
    "        bbox=dict(boxstyle='round,pad=0.3', edgecolor='black', facecolor='white')\n",
    "    )\n",
    "\n",
    "plt.tight_layout()\n",
    "\n",
    "# Exibir a grade de plotagem\n",
    "plt.show()"
   ]
  }
 ],
 "metadata": {
  "accelerator": "GPU",
  "colab": {
   "gpuType": "T4",
   "provenance": [],
   "toc_visible": true
  },
  "kernelspec": {
   "display_name": "Python 3 (ipykernel)",
   "language": "python",
   "name": "python3"
  },
  "language_info": {
   "codemirror_mode": {
    "name": "ipython",
    "version": 3
   },
   "file_extension": ".py",
   "mimetype": "text/x-python",
   "name": "python",
   "nbconvert_exporter": "python",
   "pygments_lexer": "ipython3",
   "version": "3.10.6"
  }
 },
 "nbformat": 4,
 "nbformat_minor": 4
}
